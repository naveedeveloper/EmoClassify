{
 "cells": [
  {
   "cell_type": "markdown",
   "id": "36f38e2a-9998-4c73-bfc3-21b74d64a5ee",
   "metadata": {},
   "source": [
    "# Project: \n",
    "    Emotion Detection of Text\n",
    "# Group Members:\n",
    "    Tayyub Naveed (19P-0108)\n",
    "    Usman Manzoor (19P-0065)"
   ]
  },
  {
   "cell_type": "code",
   "execution_count": 1,
   "id": "f0814628-3d83-4fd6-a511-2eccf79f9f1e",
   "metadata": {},
   "outputs": [],
   "source": [
    "import pandas as pd\n",
    "import numpy as np\n",
    "import matplotlib.pyplot as plt\n",
    "import seaborn as sns"
   ]
  },
  {
   "cell_type": "markdown",
   "id": "3bf1328e",
   "metadata": {},
   "source": [
    "### Load Dataset"
   ]
  },
  {
   "cell_type": "code",
   "execution_count": 2,
   "id": "b209e004-ab77-4407-8689-b4318944d47f",
   "metadata": {},
   "outputs": [],
   "source": [
    "df = pd.read_csv(\"emotion_dataset.csv\")"
   ]
  },
  {
   "cell_type": "code",
   "execution_count": 3,
   "id": "fea2d4c0-3bdd-405e-ab69-507ceaac36cb",
   "metadata": {},
   "outputs": [
    {
     "data": {
      "text/html": [
       "<div>\n",
       "<style scoped>\n",
       "    .dataframe tbody tr th:only-of-type {\n",
       "        vertical-align: middle;\n",
       "    }\n",
       "\n",
       "    .dataframe tbody tr th {\n",
       "        vertical-align: top;\n",
       "    }\n",
       "\n",
       "    .dataframe thead th {\n",
       "        text-align: right;\n",
       "    }\n",
       "</style>\n",
       "<table border=\"1\" class=\"dataframe\">\n",
       "  <thead>\n",
       "    <tr style=\"text-align: right;\">\n",
       "      <th></th>\n",
       "      <th>Emotion</th>\n",
       "      <th>Text</th>\n",
       "    </tr>\n",
       "  </thead>\n",
       "  <tbody>\n",
       "    <tr>\n",
       "      <th>0</th>\n",
       "      <td>neutral</td>\n",
       "      <td>Why ?</td>\n",
       "    </tr>\n",
       "    <tr>\n",
       "      <th>1</th>\n",
       "      <td>joy</td>\n",
       "      <td>Sage Act upgrade on my to do list for tommorow.</td>\n",
       "    </tr>\n",
       "    <tr>\n",
       "      <th>2</th>\n",
       "      <td>sadness</td>\n",
       "      <td>ON THE WAY TO MY HOMEGIRL BABY FUNERAL!!! MAN ...</td>\n",
       "    </tr>\n",
       "    <tr>\n",
       "      <th>3</th>\n",
       "      <td>joy</td>\n",
       "      <td>Such an eye ! The true hazel eye-and so brill...</td>\n",
       "    </tr>\n",
       "    <tr>\n",
       "      <th>4</th>\n",
       "      <td>joy</td>\n",
       "      <td>@Iluvmiasantos ugh babe.. hugggzzz for u .!  b...</td>\n",
       "    </tr>\n",
       "  </tbody>\n",
       "</table>\n",
       "</div>"
      ],
      "text/plain": [
       "   Emotion                                               Text\n",
       "0  neutral                                             Why ? \n",
       "1      joy    Sage Act upgrade on my to do list for tommorow.\n",
       "2  sadness  ON THE WAY TO MY HOMEGIRL BABY FUNERAL!!! MAN ...\n",
       "3      joy   Such an eye ! The true hazel eye-and so brill...\n",
       "4      joy  @Iluvmiasantos ugh babe.. hugggzzz for u .!  b..."
      ]
     },
     "execution_count": 3,
     "metadata": {},
     "output_type": "execute_result"
    }
   ],
   "source": [
    "df.head()"
   ]
  },
  {
   "cell_type": "markdown",
   "id": "4ad6e3ab",
   "metadata": {},
   "source": [
    "### Checking emotion frequency in dataset"
   ]
  },
  {
   "cell_type": "code",
   "execution_count": 4,
   "id": "430565a3-cf3b-4c6f-afa5-bafd084f5676",
   "metadata": {},
   "outputs": [
    {
     "data": {
      "text/plain": [
       "joy         11045\n",
       "sadness      6722\n",
       "fear         5410\n",
       "anger        4297\n",
       "surprise     4062\n",
       "neutral      2254\n",
       "disgust       856\n",
       "shame         146\n",
       "Name: Emotion, dtype: int64"
      ]
     },
     "execution_count": 4,
     "metadata": {},
     "output_type": "execute_result"
    }
   ],
   "source": [
    "df['Emotion'].value_counts()"
   ]
  },
  {
   "cell_type": "markdown",
   "id": "8df35d07",
   "metadata": {},
   "source": [
    "### Data visulization"
   ]
  },
  {
   "cell_type": "code",
   "execution_count": 5,
   "id": "531d3449-a959-4a19-bff0-3ffed551e619",
   "metadata": {},
   "outputs": [
    {
     "data": {
      "text/plain": [
       "<Axes: xlabel='Emotion', ylabel='count'>"
      ]
     },
     "execution_count": 5,
     "metadata": {},
     "output_type": "execute_result"
    },
    {
     "data": {
      "image/png": "[encoded data removed]",
      "text/plain": [
       "<Figure size 640x480 with 1 Axes>"
      ]
     },
     "metadata": {},
     "output_type": "display_data"
    }
   ],
   "source": [
    "sns.countplot(x='Emotion',data=df)"
   ]
  },
  {
   "cell_type": "markdown",
   "id": "b9691af0",
   "metadata": {},
   "source": [
    "### Exploration\n",
    "+ Sentiment Analysis\n",
    "+ Text Cleaning\n",
    "+ Keyword Extraction"
   ]
  },
  {
   "cell_type": "code",
   "execution_count": 6,
   "id": "1c1f447b",
   "metadata": {},
   "outputs": [
    {
     "name": "stdout",
     "output_type": "stream",
     "text": [
      "Requirement already satisfied: textblob in /opt/anaconda3/lib/python3.9/site-packages (0.17.1)\n",
      "Requirement already satisfied: nltk>=3.1 in /opt/anaconda3/lib/python3.9/site-packages (from textblob) (3.7)\n",
      "Requirement already satisfied: click in /opt/anaconda3/lib/python3.9/site-packages (from nltk>=3.1->textblob) (8.0.4)\n",
      "Requirement already satisfied: tqdm in /opt/anaconda3/lib/python3.9/site-packages (from nltk>=3.1->textblob) (4.65.0)\n",
      "Requirement already satisfied: joblib in /opt/anaconda3/lib/python3.9/site-packages (from nltk>=3.1->textblob) (1.1.1)\n",
      "Requirement already satisfied: regex>=2021.8.3 in /opt/anaconda3/lib/python3.9/site-packages (from nltk>=3.1->textblob) (2022.7.9)\n"
     ]
    }
   ],
   "source": [
    "!pip install textblob"
   ]
  },
  {
   "cell_type": "code",
   "execution_count": 7,
   "id": "885a69df",
   "metadata": {},
   "outputs": [],
   "source": [
    "from textblob import TextBlob"
   ]
  },
  {
   "cell_type": "code",
   "execution_count": 8,
   "id": "61ea133d",
   "metadata": {},
   "outputs": [],
   "source": [
    "def get_sentiment(text):\n",
    "    blob = TextBlob(text)\n",
    "    sentiment = blob.sentiment.polarity\n",
    "    if sentiment > 0:\n",
    "        result = \"Positive\"\n",
    "    elif sentiment < 0:\n",
    "        result = \"Negative\"\n",
    "    else:\n",
    "        result  = \"Neutral\"\n",
    "    return result"
   ]
  },
  {
   "cell_type": "code",
   "execution_count": 9,
   "id": "c50f046a",
   "metadata": {},
   "outputs": [
    {
     "data": {
      "text/plain": [
       "'Positive'"
      ]
     },
     "execution_count": 9,
     "metadata": {},
     "output_type": "execute_result"
    }
   ],
   "source": [
    "get_sentiment(\"I love coding\")"
   ]
  },
  {
   "cell_type": "markdown",
   "id": "8bf710ce",
   "metadata": {},
   "source": [
    "### Applying get_sentiment on entire dataset"
   ]
  },
  {
   "cell_type": "code",
   "execution_count": 10,
   "id": "a9077c61",
   "metadata": {},
   "outputs": [],
   "source": [
    "df['Sentiment'] = df['Text'].apply(get_sentiment)"
   ]
  },
  {
   "cell_type": "code",
   "execution_count": 11,
   "id": "332e3591",
   "metadata": {},
   "outputs": [
    {
     "data": {
      "text/html": [
       "<div>\n",
       "<style scoped>\n",
       "    .dataframe tbody tr th:only-of-type {\n",
       "        vertical-align: middle;\n",
       "    }\n",
       "\n",
       "    .dataframe tbody tr th {\n",
       "        vertical-align: top;\n",
       "    }\n",
       "\n",
       "    .dataframe thead th {\n",
       "        text-align: right;\n",
       "    }\n",
       "</style>\n",
       "<table border=\"1\" class=\"dataframe\">\n",
       "  <thead>\n",
       "    <tr style=\"text-align: right;\">\n",
       "      <th></th>\n",
       "      <th>Emotion</th>\n",
       "      <th>Text</th>\n",
       "      <th>Sentiment</th>\n",
       "    </tr>\n",
       "  </thead>\n",
       "  <tbody>\n",
       "    <tr>\n",
       "      <th>0</th>\n",
       "      <td>neutral</td>\n",
       "      <td>Why ?</td>\n",
       "      <td>Neutral</td>\n",
       "    </tr>\n",
       "    <tr>\n",
       "      <th>1</th>\n",
       "      <td>joy</td>\n",
       "      <td>Sage Act upgrade on my to do list for tommorow.</td>\n",
       "      <td>Neutral</td>\n",
       "    </tr>\n",
       "    <tr>\n",
       "      <th>2</th>\n",
       "      <td>sadness</td>\n",
       "      <td>ON THE WAY TO MY HOMEGIRL BABY FUNERAL!!! MAN ...</td>\n",
       "      <td>Negative</td>\n",
       "    </tr>\n",
       "    <tr>\n",
       "      <th>3</th>\n",
       "      <td>joy</td>\n",
       "      <td>Such an eye ! The true hazel eye-and so brill...</td>\n",
       "      <td>Positive</td>\n",
       "    </tr>\n",
       "    <tr>\n",
       "      <th>4</th>\n",
       "      <td>joy</td>\n",
       "      <td>@Iluvmiasantos ugh babe.. hugggzzz for u .!  b...</td>\n",
       "      <td>Neutral</td>\n",
       "    </tr>\n",
       "  </tbody>\n",
       "</table>\n",
       "</div>"
      ],
      "text/plain": [
       "   Emotion                                               Text Sentiment\n",
       "0  neutral                                             Why ?    Neutral\n",
       "1      joy    Sage Act upgrade on my to do list for tommorow.   Neutral\n",
       "2  sadness  ON THE WAY TO MY HOMEGIRL BABY FUNERAL!!! MAN ...  Negative\n",
       "3      joy   Such an eye ! The true hazel eye-and so brill...  Positive\n",
       "4      joy  @Iluvmiasantos ugh babe.. hugggzzz for u .!  b...   Neutral"
      ]
     },
     "execution_count": 11,
     "metadata": {},
     "output_type": "execute_result"
    }
   ],
   "source": [
    "df.head()"
   ]
  },
  {
   "cell_type": "markdown",
   "id": "6526a4cd",
   "metadata": {},
   "source": [
    "### Comparing emotions and sentiments"
   ]
  },
  {
   "cell_type": "code",
   "execution_count": 12,
   "id": "0b7e85a6",
   "metadata": {},
   "outputs": [
    {
     "data": {
      "text/plain": [
       "Emotion   Sentiment\n",
       "anger     Negative     1787\n",
       "          Neutral      1386\n",
       "          Positive     1124\n",
       "disgust   Negative      325\n",
       "          Neutral       249\n",
       "          Positive      282\n",
       "fear      Negative     1534\n",
       "          Neutral      1843\n",
       "          Positive     2033\n",
       "joy       Negative     1682\n",
       "          Neutral      3648\n",
       "          Positive     5715\n",
       "neutral   Negative      178\n",
       "          Neutral      1523\n",
       "          Positive      553\n",
       "sadness   Negative     2630\n",
       "          Neutral      2127\n",
       "          Positive     1965\n",
       "shame     Negative       46\n",
       "          Neutral        50\n",
       "          Positive       50\n",
       "surprise  Negative      623\n",
       "          Neutral      1545\n",
       "          Positive     1894\n",
       "dtype: int64"
      ]
     },
     "execution_count": 12,
     "metadata": {},
     "output_type": "execute_result"
    }
   ],
   "source": [
    "df.groupby(['Emotion', 'Sentiment']).size()"
   ]
  },
  {
   "cell_type": "code",
   "execution_count": 41,
   "id": "41df87bc",
   "metadata": {},
   "outputs": [
    {
     "data": {
      "text/plain": [
       "<seaborn.axisgrid.FacetGrid at 0x7fcde2b64100>"
      ]
     },
     "execution_count": 41,
     "metadata": {},
     "output_type": "execute_result"
    },
    {
     "data": {
      "image/png": "[encoded data removed]",
      "text/plain": [
       "<Figure size 612.5x500 with 1 Axes>"
      ]
     },
     "metadata": {},
     "output_type": "display_data"
    }
   ],
   "source": [
    "sns.catplot(x='Emotion', hue='Sentiment', data=df,kind='count')"
   ]
  },
  {
   "cell_type": "markdown",
   "id": "02edc8f4",
   "metadata": {},
   "source": [
    "### Text Cleaning\n",
    "+ Remove noise\n",
    "    - stopwords\n",
    "    - special words\n",
    "    - emojis"
   ]
  },
  {
   "cell_type": "code",
   "execution_count": 13,
   "id": "ef88a8eb",
   "metadata": {},
   "outputs": [],
   "source": [
    "import neattext.functions as nfx"
   ]
  },
  {
   "cell_type": "code",
   "execution_count": 14,
   "id": "1da582b6",
   "metadata": {},
   "outputs": [
    {
     "data": {
      "text/plain": [
       "0                                                   Why ? \n",
       "1          Sage Act upgrade on my to do list for tommorow.\n",
       "2        ON THE WAY TO MY HOMEGIRL BABY FUNERAL!!! MAN ...\n",
       "3         Such an eye ! The true hazel eye-and so brill...\n",
       "4        @Iluvmiasantos ugh babe.. hugggzzz for u .!  b...\n",
       "                               ...                        \n",
       "34787    @MichelGW have you gift! Hope you like it! It'...\n",
       "34788    The world didnt give it to me..so the world MO...\n",
       "34789                             A man robbed me today . \n",
       "34790    Youu call it JEALOUSY, I call it of #Losing YO...\n",
       "34791    I think about you baby, and I dream about you ...\n",
       "Name: Text, Length: 34792, dtype: object"
      ]
     },
     "execution_count": 14,
     "metadata": {},
     "output_type": "execute_result"
    }
   ],
   "source": [
    "df['Text']"
   ]
  },
  {
   "cell_type": "code",
   "execution_count": 15,
   "id": "7d5bd6de",
   "metadata": {},
   "outputs": [],
   "source": [
    "df['Clean_Text'] = df['Text'].apply(nfx.remove_stopwords)"
   ]
  },
  {
   "cell_type": "code",
   "execution_count": 16,
   "id": "822ffcb7",
   "metadata": {},
   "outputs": [],
   "source": [
    "df['Clean_Text'] = df['Text'].apply(nfx.remove_punctuations)"
   ]
  },
  {
   "cell_type": "code",
   "execution_count": 17,
   "id": "976f7d54",
   "metadata": {},
   "outputs": [],
   "source": [
    "df['Clean_Text'] = df['Text'].apply(nfx.remove_userhandles)"
   ]
  },
  {
   "cell_type": "code",
   "execution_count": 18,
   "id": "4dab8ccb",
   "metadata": {},
   "outputs": [
    {
     "data": {
      "text/html": [
       "<div>\n",
       "<style scoped>\n",
       "    .dataframe tbody tr th:only-of-type {\n",
       "        vertical-align: middle;\n",
       "    }\n",
       "\n",
       "    .dataframe tbody tr th {\n",
       "        vertical-align: top;\n",
       "    }\n",
       "\n",
       "    .dataframe thead th {\n",
       "        text-align: right;\n",
       "    }\n",
       "</style>\n",
       "<table border=\"1\" class=\"dataframe\">\n",
       "  <thead>\n",
       "    <tr style=\"text-align: right;\">\n",
       "      <th></th>\n",
       "      <th>Text</th>\n",
       "      <th>Clean_Text</th>\n",
       "    </tr>\n",
       "  </thead>\n",
       "  <tbody>\n",
       "    <tr>\n",
       "      <th>0</th>\n",
       "      <td>Why ?</td>\n",
       "      <td>Why ?</td>\n",
       "    </tr>\n",
       "    <tr>\n",
       "      <th>1</th>\n",
       "      <td>Sage Act upgrade on my to do list for tommorow.</td>\n",
       "      <td>Sage Act upgrade on my to do list for tommorow.</td>\n",
       "    </tr>\n",
       "    <tr>\n",
       "      <th>2</th>\n",
       "      <td>ON THE WAY TO MY HOMEGIRL BABY FUNERAL!!! MAN ...</td>\n",
       "      <td>ON THE WAY TO MY HOMEGIRL BABY FUNERAL!!! MAN ...</td>\n",
       "    </tr>\n",
       "    <tr>\n",
       "      <th>3</th>\n",
       "      <td>Such an eye ! The true hazel eye-and so brill...</td>\n",
       "      <td>Such an eye ! The true hazel eye-and so brill...</td>\n",
       "    </tr>\n",
       "    <tr>\n",
       "      <th>4</th>\n",
       "      <td>@Iluvmiasantos ugh babe.. hugggzzz for u .!  b...</td>\n",
       "      <td>ugh babe.. hugggzzz for u .!  babe naamazed ...</td>\n",
       "    </tr>\n",
       "    <tr>\n",
       "      <th>...</th>\n",
       "      <td>...</td>\n",
       "      <td>...</td>\n",
       "    </tr>\n",
       "    <tr>\n",
       "      <th>34787</th>\n",
       "      <td>@MichelGW have you gift! Hope you like it! It'...</td>\n",
       "      <td>have you gift! Hope you like it! It's hand m...</td>\n",
       "    </tr>\n",
       "    <tr>\n",
       "      <th>34788</th>\n",
       "      <td>The world didnt give it to me..so the world MO...</td>\n",
       "      <td>The world didnt give it to me..so the world MO...</td>\n",
       "    </tr>\n",
       "    <tr>\n",
       "      <th>34789</th>\n",
       "      <td>A man robbed me today .</td>\n",
       "      <td>A man robbed me today .</td>\n",
       "    </tr>\n",
       "    <tr>\n",
       "      <th>34790</th>\n",
       "      <td>Youu call it JEALOUSY, I call it of #Losing YO...</td>\n",
       "      <td>Youu call it JEALOUSY, I call it of #Losing YO...</td>\n",
       "    </tr>\n",
       "    <tr>\n",
       "      <th>34791</th>\n",
       "      <td>I think about you baby, and I dream about you ...</td>\n",
       "      <td>I think about you baby, and I dream about you ...</td>\n",
       "    </tr>\n",
       "  </tbody>\n",
       "</table>\n",
       "<p>34792 rows × 2 columns</p>\n",
       "</div>"
      ],
      "text/plain": [
       "                                                    Text  \\\n",
       "0                                                 Why ?    \n",
       "1        Sage Act upgrade on my to do list for tommorow.   \n",
       "2      ON THE WAY TO MY HOMEGIRL BABY FUNERAL!!! MAN ...   \n",
       "3       Such an eye ! The true hazel eye-and so brill...   \n",
       "4      @Iluvmiasantos ugh babe.. hugggzzz for u .!  b...   \n",
       "...                                                  ...   \n",
       "34787  @MichelGW have you gift! Hope you like it! It'...   \n",
       "34788  The world didnt give it to me..so the world MO...   \n",
       "34789                           A man robbed me today .    \n",
       "34790  Youu call it JEALOUSY, I call it of #Losing YO...   \n",
       "34791  I think about you baby, and I dream about you ...   \n",
       "\n",
       "                                              Clean_Text  \n",
       "0                                                 Why ?   \n",
       "1        Sage Act upgrade on my to do list for tommorow.  \n",
       "2      ON THE WAY TO MY HOMEGIRL BABY FUNERAL!!! MAN ...  \n",
       "3       Such an eye ! The true hazel eye-and so brill...  \n",
       "4        ugh babe.. hugggzzz for u .!  babe naamazed ...  \n",
       "...                                                  ...  \n",
       "34787    have you gift! Hope you like it! It's hand m...  \n",
       "34788  The world didnt give it to me..so the world MO...  \n",
       "34789                           A man robbed me today .   \n",
       "34790  Youu call it JEALOUSY, I call it of #Losing YO...  \n",
       "34791  I think about you baby, and I dream about you ...  \n",
       "\n",
       "[34792 rows x 2 columns]"
      ]
     },
     "execution_count": 18,
     "metadata": {},
     "output_type": "execute_result"
    }
   ],
   "source": [
    "df[['Text', 'Clean_Text']]"
   ]
  },
  {
   "cell_type": "markdown",
   "id": "2f8802b0",
   "metadata": {},
   "source": [
    "### Keyword Extraction\n",
    "+ Extract most commonest words per class of emotion"
   ]
  },
  {
   "cell_type": "code",
   "execution_count": 43,
   "id": "c3df5c9a",
   "metadata": {},
   "outputs": [],
   "source": [
    "from collections import Counter"
   ]
  },
  {
   "cell_type": "code",
   "execution_count": 44,
   "id": "f9854b5e",
   "metadata": {},
   "outputs": [],
   "source": [
    "def extract_keywords(text, num=50):\n",
    "    tokens = [tok for tok in text.split()]\n",
    "    most_common_tokens = Counter(tokens).most_common(num)\n",
    "    return dict(most_common_tokens)"
   ]
  },
  {
   "cell_type": "code",
   "execution_count": 45,
   "id": "e3c106b2",
   "metadata": {},
   "outputs": [],
   "source": [
    "emotion_list = df['Emotion'].unique().tolist()"
   ]
  },
  {
   "cell_type": "code",
   "execution_count": 46,
   "id": "230863d8",
   "metadata": {},
   "outputs": [
    {
     "data": {
      "text/plain": [
       "['neutral', 'joy', 'sadness', 'fear', 'surprise', 'anger', 'shame', 'disgust']"
      ]
     },
     "execution_count": 46,
     "metadata": {},
     "output_type": "execute_result"
    }
   ],
   "source": [
    "emotion_list"
   ]
  },
  {
   "cell_type": "code",
   "execution_count": 47,
   "id": "8c4aaee5",
   "metadata": {},
   "outputs": [],
   "source": [
    "joy_list = df[df['Emotion']=='joy']['Clean_Text'].tolist()"
   ]
  },
  {
   "cell_type": "code",
   "execution_count": 48,
   "id": "cac3fe33",
   "metadata": {},
   "outputs": [],
   "source": [
    "joy_docx = ''.join(joy_list)"
   ]
  },
  {
   "cell_type": "code",
   "execution_count": 50,
   "id": "b20a0294",
   "metadata": {},
   "outputs": [],
   "source": [
    "keyword_joy = extract_keywords(joy_docx)"
   ]
  },
  {
   "cell_type": "code",
   "execution_count": 51,
   "id": "854e51c2",
   "metadata": {},
   "outputs": [
    {
     "data": {
      "text/plain": [
       "{'the': 5287,\n",
       " 'to': 4724,\n",
       " 'I': 4196,\n",
       " 'a': 3590,\n",
       " 'and': 3210,\n",
       " 'of': 2796,\n",
       " 'my': 2781,\n",
       " 'in': 2299,\n",
       " '.': 1993,\n",
       " 'for': 1980,\n",
       " 'is': 1561,\n",
       " ',': 1365,\n",
       " 'with': 1363,\n",
       " 'that': 1203,\n",
       " 'you': 1171,\n",
       " 'was': 1150,\n",
       " 'at': 1123,\n",
       " 'on': 1088,\n",
       " 'have': 956,\n",
       " 'me': 947,\n",
       " 'be': 881,\n",
       " 'it': 849,\n",
       " 'this': 758,\n",
       " '&amp;': 673,\n",
       " 'had': 633,\n",
       " 'all': 604,\n",
       " 'so': 588,\n",
       " 'up': 585,\n",
       " 'day': 577,\n",
       " 'when': 541,\n",
       " 'your': 527,\n",
       " \"I'm\": 499,\n",
       " 'time': 479,\n",
       " 'from': 476,\n",
       " 'get': 474,\n",
       " 'an': 472,\n",
       " 'not': 469,\n",
       " 'like': 465,\n",
       " 'just': 443,\n",
       " 'about': 434,\n",
       " 'are': 430,\n",
       " 'out': 418,\n",
       " 'The': 410,\n",
       " 'but': 398,\n",
       " 'work': 395,\n",
       " 'Christmas': 388,\n",
       " 'as': 384,\n",
       " 'i': 362,\n",
       " 'When': 361,\n",
       " 'we': 357}"
      ]
     },
     "execution_count": 51,
     "metadata": {},
     "output_type": "execute_result"
    }
   ],
   "source": [
    "keyword_joy"
   ]
  },
  {
   "cell_type": "code",
   "execution_count": 56,
   "id": "ee204785",
   "metadata": {},
   "outputs": [],
   "source": [
    "def plot_most_common_words(mydict):\n",
    "    df_01=pd.DataFrame(mydict.items(), columns=['token','count'])\n",
    "    plt.figure(figsize=(20,10))\n",
    "    sns.barplot(x='token',y='count',data=df_01)\n",
    "    plt.xticks(rotation=45)\n",
    "    plt.show()"
   ]
  },
  {
   "cell_type": "code",
   "execution_count": 57,
   "id": "77b9ffc5",
   "metadata": {},
   "outputs": [
    {
     "data": {
      "image/png": "[encoded data removed]",
      "text/plain": [
       "<Figure size 2000x1000 with 1 Axes>"
      ]
     },
     "metadata": {},
     "output_type": "display_data"
    }
   ],
   "source": [
    "plot_most_common_words(keyword_joy)"
   ]
  },
  {
   "cell_type": "code",
   "execution_count": 58,
   "id": "c96843bf",
   "metadata": {},
   "outputs": [],
   "source": [
    "surprise_list = df[df['Emotion']=='surprise']['Clean_Text'].tolist()\n",
    "surprise_docx = ''.join(surprise_list)\n",
    "keyword_surprise = extract_keywords(surprise_docx)"
   ]
  },
  {
   "cell_type": "code",
   "execution_count": 59,
   "id": "0a60fc5e",
   "metadata": {},
   "outputs": [
    {
     "data": {
      "image/png": "[encoded data removed]",
      "text/plain": [
       "<Figure size 2000x1000 with 1 Axes>"
      ]
     },
     "metadata": {},
     "output_type": "display_data"
    }
   ],
   "source": [
    "plot_most_common_words(keyword_surprise)"
   ]
  },
  {
   "cell_type": "markdown",
   "id": "ecf93f74",
   "metadata": {},
   "source": [
    "### Build Our Model"
   ]
  },
  {
   "cell_type": "code",
   "execution_count": 19,
   "id": "a0dddcd6",
   "metadata": {},
   "outputs": [],
   "source": [
    "from sklearn.linear_model import LogisticRegression\n",
    "from sklearn.naive_bayes import MultinomialNB\n",
    "\n",
    "from sklearn.feature_extraction.text import CountVectorizer\n",
    "from sklearn.model_selection import train_test_split\n",
    "from sklearn.metrics import accuracy_score,classification_report,confusion_matrix, plot_confusion_matrix"
   ]
  },
  {
   "cell_type": "code",
   "execution_count": 20,
   "id": "450c39c0-79dd-4eaf-85fe-57e344eb81bd",
   "metadata": {},
   "outputs": [],
   "source": [
    "Xfeatures = df['Clean_Text']\n",
    "ylabels = df['Emotion']"
   ]
  },
  {
   "cell_type": "code",
   "execution_count": 21,
   "id": "841e6b99",
   "metadata": {},
   "outputs": [
    {
     "data": {
      "text/plain": [
       "0                                                   Why ? \n",
       "1          Sage Act upgrade on my to do list for tommorow.\n",
       "2        ON THE WAY TO MY HOMEGIRL BABY FUNERAL!!! MAN ...\n",
       "3         Such an eye ! The true hazel eye-and so brill...\n",
       "4          ugh babe.. hugggzzz for u .!  babe naamazed ...\n",
       "                               ...                        \n",
       "34787      have you gift! Hope you like it! It's hand m...\n",
       "34788    The world didnt give it to me..so the world MO...\n",
       "34789                             A man robbed me today . \n",
       "34790    Youu call it JEALOUSY, I call it of #Losing YO...\n",
       "34791    I think about you baby, and I dream about you ...\n",
       "Name: Clean_Text, Length: 34792, dtype: object"
      ]
     },
     "execution_count": 21,
     "metadata": {},
     "output_type": "execute_result"
    }
   ],
   "source": [
    "Xfeatures"
   ]
  },
  {
   "cell_type": "code",
   "execution_count": 22,
   "id": "55cb409e",
   "metadata": {},
   "outputs": [],
   "source": [
    "cv = CountVectorizer()\n",
    "X = cv.fit_transform(Xfeatures)"
   ]
  },
  {
   "cell_type": "code",
   "execution_count": 23,
   "id": "27d7f976-c28f-449e-ae1a-53a42bbda4e8",
   "metadata": {},
   "outputs": [],
   "source": [
    "x_train,x_test,y_train,y_test = train_test_split(X,ylabels,test_size=0.3,random_state=42)"
   ]
  },
  {
   "cell_type": "code",
   "execution_count": 24,
   "id": "56e28405",
   "metadata": {},
   "outputs": [
    {
     "data": {
      "text/plain": [
       "MultinomialNB()"
      ]
     },
     "execution_count": 24,
     "metadata": {},
     "output_type": "execute_result"
    }
   ],
   "source": [
    "nv_model = MultinomialNB()\n",
    "nv_model.fit(x_train, y_train)"
   ]
  },
  {
   "cell_type": "markdown",
   "id": "4e274d94",
   "metadata": {},
   "source": [
    "### Accuracy"
   ]
  },
  {
   "cell_type": "code",
   "execution_count": 25,
   "id": "a86b84ec",
   "metadata": {},
   "outputs": [
    {
     "data": {
      "text/plain": [
       "0.5643801494539183"
      ]
     },
     "execution_count": 25,
     "metadata": {},
     "output_type": "execute_result"
    }
   ],
   "source": [
    "nv_model.score(x_test, y_test)"
   ]
  },
  {
   "cell_type": "markdown",
   "id": "86fc8ea8",
   "metadata": {},
   "source": [
    "### Predictions"
   ]
  },
  {
   "cell_type": "code",
   "execution_count": 26,
   "id": "9c3251c3",
   "metadata": {},
   "outputs": [],
   "source": [
    "y_pred_for_nv = nv_model.predict(x_test)"
   ]
  },
  {
   "cell_type": "code",
   "execution_count": 27,
   "id": "a062e2e6",
   "metadata": {},
   "outputs": [
    {
     "data": {
      "text/plain": [
       "array(['fear', 'sadness', 'sadness', ..., 'sadness', 'joy', 'sadness'],\n",
       "      dtype='<U8')"
      ]
     },
     "execution_count": 27,
     "metadata": {},
     "output_type": "execute_result"
    }
   ],
   "source": [
    "y_pred_for_nv"
   ]
  },
  {
   "cell_type": "markdown",
   "id": "102a68bb",
   "metadata": {},
   "source": [
    "### Make a single prediction\n"
   ]
  },
  {
   "cell_type": "code",
   "execution_count": 63,
   "id": "c18324cc",
   "metadata": {},
   "outputs": [],
   "source": [
    "sample_text = [\"I love coding so much\"]"
   ]
  },
  {
   "cell_type": "code",
   "execution_count": 64,
   "id": "ac73ed01",
   "metadata": {},
   "outputs": [],
   "source": [
    "vect = cv.transform(sample_text).toarray()"
   ]
  },
  {
   "cell_type": "code",
   "execution_count": 65,
   "id": "e5fdad1d",
   "metadata": {},
   "outputs": [
    {
     "data": {
      "text/plain": [
       "array(['joy'], dtype='<U8')"
      ]
     },
     "execution_count": 65,
     "metadata": {},
     "output_type": "execute_result"
    }
   ],
   "source": [
    "nv_model.predict(vect)"
   ]
  },
  {
   "cell_type": "markdown",
   "id": "e32bf383",
   "metadata": {},
   "source": [
    "### Confidence"
   ]
  },
  {
   "cell_type": "code",
   "execution_count": 31,
   "id": "09d25a94",
   "metadata": {},
   "outputs": [
    {
     "data": {
      "text/plain": [
       "array([[9.21558415e-03, 2.84856942e-04, 7.17832690e-02, 7.27387611e-01,\n",
       "        4.84644528e-03, 1.47029739e-01, 5.61813250e-07, 3.94519332e-02]])"
      ]
     },
     "execution_count": 31,
     "metadata": {},
     "output_type": "execute_result"
    }
   ],
   "source": [
    "nv_model.predict_proba(vect)"
   ]
  },
  {
   "cell_type": "code",
   "execution_count": 32,
   "id": "4a43bb14",
   "metadata": {},
   "outputs": [
    {
     "data": {
      "text/plain": [
       "array(['anger', 'disgust', 'fear', 'joy', 'neutral', 'sadness', 'shame',\n",
       "       'surprise'], dtype='<U8')"
      ]
     },
     "execution_count": 32,
     "metadata": {},
     "output_type": "execute_result"
    }
   ],
   "source": [
    "nv_model.classes_"
   ]
  },
  {
   "cell_type": "code",
   "execution_count": 33,
   "id": "9b4d984c",
   "metadata": {},
   "outputs": [
    {
     "data": {
      "text/plain": [
       "0.7273876106120176"
      ]
     },
     "execution_count": 33,
     "metadata": {},
     "output_type": "execute_result"
    }
   ],
   "source": [
    "np.max(nv_model.predict_proba(vect))"
   ]
  },
  {
   "cell_type": "code",
   "execution_count": 34,
   "id": "35bf78f8",
   "metadata": {},
   "outputs": [],
   "source": [
    "def predict_emotion(sample_text, model):\n",
    "    myvect = cv.transform(sample_text).toarray()\n",
    "    prediction = model.predict(myvect)\n",
    "    pred_proba = model.predict_proba(myvect)\n",
    "    pred_percentage_for_all = dict(zip(model.classes_, pred_proba[0]))\n",
    "    print(\"Prediction:{}, Prediction Score:{}\".format(prediction[0],np.max(pred_proba)))\n",
    "    return pred_percentage_for_all"
   ]
  },
  {
   "cell_type": "code",
   "execution_count": 35,
   "id": "888ad07b",
   "metadata": {},
   "outputs": [
    {
     "name": "stdout",
     "output_type": "stream",
     "text": [
      "Prediction:joy, Prediction Score:0.7273876106120176\n"
     ]
    },
    {
     "data": {
      "text/plain": [
       "{'anger': 0.009215584151633269,\n",
       " 'disgust': 0.0002848569422544623,\n",
       " 'fear': 0.07178326900215977,\n",
       " 'joy': 0.7273876106120176,\n",
       " 'neutral': 0.004846445281418173,\n",
       " 'sadness': 0.1470297389590574,\n",
       " 'shame': 5.618132504642586e-07,\n",
       " 'surprise': 0.03945193323820767}"
      ]
     },
     "execution_count": 35,
     "metadata": {},
     "output_type": "execute_result"
    }
   ],
   "source": [
    "predict_emotion(sample_text, nv_model)"
   ]
  },
  {
   "cell_type": "markdown",
   "id": "e1e3824b",
   "metadata": {},
   "source": [
    "### model evaluation"
   ]
  },
  {
   "cell_type": "code",
   "execution_count": 36,
   "id": "ac0298b9",
   "metadata": {},
   "outputs": [
    {
     "name": "stdout",
     "output_type": "stream",
     "text": [
      "              precision    recall  f1-score   support\n",
      "\n",
      "       anger       0.64      0.50      0.56      1283\n",
      "     disgust       0.32      0.02      0.04       292\n",
      "        fear       0.73      0.57      0.64      1645\n",
      "         joy       0.52      0.86      0.65      3311\n",
      "     neutral       0.75      0.10      0.18       675\n",
      "     sadness       0.53      0.54      0.54      2015\n",
      "       shame       0.00      0.00      0.00        36\n",
      "    surprise       0.60      0.25      0.35      1181\n",
      "\n",
      "    accuracy                           0.56     10438\n",
      "   macro avg       0.51      0.36      0.37     10438\n",
      "weighted avg       0.59      0.56      0.53     10438\n",
      "\n"
     ]
    }
   ],
   "source": [
    "print(classification_report(y_test, y_pred_for_nv))"
   ]
  },
  {
   "cell_type": "code",
   "execution_count": 37,
   "id": "298c971b",
   "metadata": {},
   "outputs": [
    {
     "data": {
      "text/plain": [
       "array([[ 644,    1,   62,  354,    2,  206,    0,   14],\n",
       "       [  38,    6,   27,  141,    0,   74,    0,    6],\n",
       "       [  78,    3,  936,  371,    6,  175,    1,   75],\n",
       "       [  67,    3,  104, 2849,    9,  213,    0,   66],\n",
       "       [  22,    0,   19,  424,   69,  138,    0,    3],\n",
       "       [  99,    2,   67,  714,    3, 1093,    2,   35],\n",
       "       [  10,    0,    8,   11,    0,    7,    0,    0],\n",
       "       [  49,    4,   51,  624,    3,  155,    1,  294]])"
      ]
     },
     "execution_count": 37,
     "metadata": {},
     "output_type": "execute_result"
    }
   ],
   "source": [
    "confusion_matrix(y_test, y_pred_for_nv)"
   ]
  },
  {
   "cell_type": "code",
   "execution_count": 38,
   "id": "098f5b5a",
   "metadata": {},
   "outputs": [
    {
     "name": "stderr",
     "output_type": "stream",
     "text": [
      "/opt/anaconda3/lib/python3.9/site-packages/sklearn/utils/deprecation.py:87: FutureWarning: Function plot_confusion_matrix is deprecated; Function `plot_confusion_matrix` is deprecated in 1.0 and will be removed in 1.2. Use one of the class methods: ConfusionMatrixDisplay.from_predictions or ConfusionMatrixDisplay.from_estimator.\n",
      "  warnings.warn(msg, category=FutureWarning)\n"
     ]
    },
    {
     "data": {
      "text/plain": [
       "<sklearn.metrics._plot.confusion_matrix.ConfusionMatrixDisplay at 0x7fcde11a5490>"
      ]
     },
     "execution_count": 38,
     "metadata": {},
     "output_type": "execute_result"
    },
    {
     "data": {
      "image/png": "[encoded data removed]",
      "text/plain": [
       "<Figure size 640x480 with 2 Axes>"
      ]
     },
     "metadata": {},
     "output_type": "display_data"
    }
   ],
   "source": [
    "plot_confusion_matrix(nv_model, x_test, y_test)"
   ]
  },
  {
   "cell_type": "code",
   "execution_count": null,
   "id": "377c4e98-67f0-45e5-8dd5-0417585754f0",
   "metadata": {},
   "outputs": [],
   "source": []
  }
 ],
 "metadata": {
  "kernelspec": {
   "display_name": "Python 3 (ipykernel)",
   "language": "python",
   "name": "python3"
  },
  "language_info": {
   "codemirror_mode": {
    "name": "ipython",
    "version": 3
   },
   "file_extension": ".py",
   "mimetype": "text/x-python",
   "name": "python",
   "nbconvert_exporter": "python",
   "pygments_lexer": "ipython3",
   "version": "3.9.16"
  }
 },
 "nbformat": 4,
 "nbformat_minor": 5
}
